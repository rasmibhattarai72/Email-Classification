{
 "cells": [
  {
   "cell_type": "code",
   "execution_count": 1,
   "metadata": {},
   "outputs": [],
   "source": [
    "#importing pandas\n",
    "import pandas as pd"
   ]
  },
  {
   "cell_type": "code",
   "execution_count": 2,
   "metadata": {},
   "outputs": [],
   "source": [
    "messages = pd.read_csv(\"emails.csv\")"
   ]
  },
  {
   "cell_type": "code",
   "execution_count": 3,
   "metadata": {},
   "outputs": [],
   "source": [
    "messages = messages.drop(['Email No.'], axis=1)"
   ]
  },
  {
   "cell_type": "code",
   "execution_count": 4,
   "metadata": {},
   "outputs": [
    {
     "name": "stdout",
     "output_type": "stream",
     "text": [
      "3001\n"
     ]
    }
   ],
   "source": [
    "col = messages.columns\n",
    "#print(col)\n",
    "print(len(col))"
   ]
  },
  {
   "cell_type": "code",
   "execution_count": 5,
   "metadata": {},
   "outputs": [
    {
     "name": "stderr",
     "output_type": "stream",
     "text": [
      "[nltk_data] Downloading package stopwords to\n",
      "[nltk_data]     C:\\Users\\Dell\\AppData\\Roaming\\nltk_data...\n",
      "[nltk_data]   Package stopwords is already up-to-date!\n"
     ]
    }
   ],
   "source": [
    "#Data cleaning and preprocessing\n",
    "import re\n",
    "import nltk\n",
    "nltk.download('stopwords')\n",
    "from nltk.corpus import stopwords\n",
    "from nltk.stem.porter import PorterStemmer\n",
    "ps= PorterStemmer()\n",
    "corpus = []"
   ]
  },
  {
   "cell_type": "code",
   "execution_count": 6,
   "metadata": {},
   "outputs": [],
   "source": [
    "drop = []\n",
    "for i in range(0,len(col)):\n",
    "    review = re.sub('[^a-zA-Z]', '',col[i])\n",
    "    \n",
    "    review = review.lower()\n",
    "    #review = review.split()\n",
    "    review = [drop.append(word) for word in review if not word in stopwords.words('english')]\n",
    "   # review = [ps.stem(word) for word in review if not word in stopwords.words('english')]\n",
    "   # review = ' '.join(review)\n",
    "    corpus.append(review)"
   ]
  },
  {
   "cell_type": "code",
   "execution_count": 7,
   "metadata": {},
   "outputs": [
    {
     "data": {
      "text/plain": [
       "3001"
      ]
     },
     "execution_count": 7,
     "metadata": {},
     "output_type": "execute_result"
    }
   ],
   "source": [
    "len(corpus)\n",
    "#len(set(corpus))"
   ]
  },
  {
   "cell_type": "code",
   "execution_count": 8,
   "metadata": {},
   "outputs": [
    {
     "data": {
      "text/plain": [
       "18"
      ]
     },
     "execution_count": 8,
     "metadata": {},
     "output_type": "execute_result"
    }
   ],
   "source": [
    "len(set(drop))"
   ]
  },
  {
   "cell_type": "code",
   "execution_count": 9,
   "metadata": {},
   "outputs": [],
   "source": [
    "X = set(drop)"
   ]
  },
  {
   "cell_type": "code",
   "execution_count": 10,
   "metadata": {},
   "outputs": [
    {
     "data": {
      "text/plain": [
       "list"
      ]
     },
     "execution_count": 10,
     "metadata": {},
     "output_type": "execute_result"
    }
   ],
   "source": [
    "type(corpus)"
   ]
  },
  {
   "cell_type": "code",
   "execution_count": 11,
   "metadata": {},
   "outputs": [
    {
     "data": {
      "text/plain": [
       "set"
      ]
     },
     "execution_count": 11,
     "metadata": {},
     "output_type": "execute_result"
    }
   ],
   "source": [
    "type(X)"
   ]
  },
  {
   "cell_type": "code",
   "execution_count": 12,
   "metadata": {},
   "outputs": [],
   "source": [
    "X = list(X)"
   ]
  },
  {
   "cell_type": "code",
   "execution_count": 13,
   "metadata": {},
   "outputs": [],
   "source": [
    "for i in range(len(col)):\n",
    "    if (col[i] in X):\n",
    "        messages.drop(col[i], axis=1, inplace=True)"
   ]
  },
  {
   "cell_type": "code",
   "execution_count": 14,
   "metadata": {},
   "outputs": [
    {
     "name": "stdout",
     "output_type": "stream",
     "text": [
      "   the  to  ect  and  for  of    a  you  hou  in  ...  connevey  jay  valued  \\\n",
      "0    0   0    1    0    0   0    2    0    0   0  ...         0    0       0   \n",
      "1    8  13   24    6    6   2  102    1   27  18  ...         0    0       0   \n",
      "2    0   0    1    0    0   0    8    0    0   4  ...         0    0       0   \n",
      "3    0   5   22    0    5   1   51    2   10   1  ...         0    0       0   \n",
      "4    7   6   17    1    5   2   57    0    9   3  ...         0    0       0   \n",
      "\n",
      "   lay  infrastructure  military  allowing  ff  dry  Prediction  \n",
      "0    0               0         0         0   0    0           0  \n",
      "1    0               0         0         0   1    0           0  \n",
      "2    0               0         0         0   0    0           0  \n",
      "3    0               0         0         0   0    0           0  \n",
      "4    0               0         0         0   1    0           0  \n",
      "\n",
      "[5 rows x 2983 columns]\n"
     ]
    }
   ],
   "source": [
    "len(messages.columns)\n",
    "print(messages.head())"
   ]
  },
  {
   "cell_type": "code",
   "execution_count": 15,
   "metadata": {},
   "outputs": [
    {
     "name": "stdout",
     "output_type": "stream",
     "text": [
      "0       0\n",
      "1       0\n",
      "2       0\n",
      "3       0\n",
      "4       0\n",
      "       ..\n",
      "5167    0\n",
      "5168    0\n",
      "5169    1\n",
      "5170    1\n",
      "5171    0\n",
      "Name: Prediction, Length: 5172, dtype: int64\n"
     ]
    }
   ],
   "source": [
    "y = messages['Prediction']\n",
    "print(y)\n"
   ]
  },
  {
   "cell_type": "code",
   "execution_count": 16,
   "metadata": {},
   "outputs": [
    {
     "data": {
      "text/html": [
       "<div>\n",
       "<style scoped>\n",
       "    .dataframe tbody tr th:only-of-type {\n",
       "        vertical-align: middle;\n",
       "    }\n",
       "\n",
       "    .dataframe tbody tr th {\n",
       "        vertical-align: top;\n",
       "    }\n",
       "\n",
       "    .dataframe thead th {\n",
       "        text-align: right;\n",
       "    }\n",
       "</style>\n",
       "<table border=\"1\" class=\"dataframe\">\n",
       "  <thead>\n",
       "    <tr style=\"text-align: right;\">\n",
       "      <th></th>\n",
       "      <th>the</th>\n",
       "      <th>to</th>\n",
       "      <th>ect</th>\n",
       "      <th>and</th>\n",
       "      <th>for</th>\n",
       "      <th>of</th>\n",
       "      <th>a</th>\n",
       "      <th>you</th>\n",
       "      <th>hou</th>\n",
       "      <th>in</th>\n",
       "      <th>...</th>\n",
       "      <th>enhancements</th>\n",
       "      <th>connevey</th>\n",
       "      <th>jay</th>\n",
       "      <th>valued</th>\n",
       "      <th>lay</th>\n",
       "      <th>infrastructure</th>\n",
       "      <th>military</th>\n",
       "      <th>allowing</th>\n",
       "      <th>ff</th>\n",
       "      <th>dry</th>\n",
       "    </tr>\n",
       "  </thead>\n",
       "  <tbody>\n",
       "    <tr>\n",
       "      <th>0</th>\n",
       "      <td>0</td>\n",
       "      <td>0</td>\n",
       "      <td>1</td>\n",
       "      <td>0</td>\n",
       "      <td>0</td>\n",
       "      <td>0</td>\n",
       "      <td>2</td>\n",
       "      <td>0</td>\n",
       "      <td>0</td>\n",
       "      <td>0</td>\n",
       "      <td>...</td>\n",
       "      <td>0</td>\n",
       "      <td>0</td>\n",
       "      <td>0</td>\n",
       "      <td>0</td>\n",
       "      <td>0</td>\n",
       "      <td>0</td>\n",
       "      <td>0</td>\n",
       "      <td>0</td>\n",
       "      <td>0</td>\n",
       "      <td>0</td>\n",
       "    </tr>\n",
       "    <tr>\n",
       "      <th>1</th>\n",
       "      <td>8</td>\n",
       "      <td>13</td>\n",
       "      <td>24</td>\n",
       "      <td>6</td>\n",
       "      <td>6</td>\n",
       "      <td>2</td>\n",
       "      <td>102</td>\n",
       "      <td>1</td>\n",
       "      <td>27</td>\n",
       "      <td>18</td>\n",
       "      <td>...</td>\n",
       "      <td>0</td>\n",
       "      <td>0</td>\n",
       "      <td>0</td>\n",
       "      <td>0</td>\n",
       "      <td>0</td>\n",
       "      <td>0</td>\n",
       "      <td>0</td>\n",
       "      <td>0</td>\n",
       "      <td>1</td>\n",
       "      <td>0</td>\n",
       "    </tr>\n",
       "    <tr>\n",
       "      <th>2</th>\n",
       "      <td>0</td>\n",
       "      <td>0</td>\n",
       "      <td>1</td>\n",
       "      <td>0</td>\n",
       "      <td>0</td>\n",
       "      <td>0</td>\n",
       "      <td>8</td>\n",
       "      <td>0</td>\n",
       "      <td>0</td>\n",
       "      <td>4</td>\n",
       "      <td>...</td>\n",
       "      <td>0</td>\n",
       "      <td>0</td>\n",
       "      <td>0</td>\n",
       "      <td>0</td>\n",
       "      <td>0</td>\n",
       "      <td>0</td>\n",
       "      <td>0</td>\n",
       "      <td>0</td>\n",
       "      <td>0</td>\n",
       "      <td>0</td>\n",
       "    </tr>\n",
       "    <tr>\n",
       "      <th>3</th>\n",
       "      <td>0</td>\n",
       "      <td>5</td>\n",
       "      <td>22</td>\n",
       "      <td>0</td>\n",
       "      <td>5</td>\n",
       "      <td>1</td>\n",
       "      <td>51</td>\n",
       "      <td>2</td>\n",
       "      <td>10</td>\n",
       "      <td>1</td>\n",
       "      <td>...</td>\n",
       "      <td>0</td>\n",
       "      <td>0</td>\n",
       "      <td>0</td>\n",
       "      <td>0</td>\n",
       "      <td>0</td>\n",
       "      <td>0</td>\n",
       "      <td>0</td>\n",
       "      <td>0</td>\n",
       "      <td>0</td>\n",
       "      <td>0</td>\n",
       "    </tr>\n",
       "    <tr>\n",
       "      <th>4</th>\n",
       "      <td>7</td>\n",
       "      <td>6</td>\n",
       "      <td>17</td>\n",
       "      <td>1</td>\n",
       "      <td>5</td>\n",
       "      <td>2</td>\n",
       "      <td>57</td>\n",
       "      <td>0</td>\n",
       "      <td>9</td>\n",
       "      <td>3</td>\n",
       "      <td>...</td>\n",
       "      <td>0</td>\n",
       "      <td>0</td>\n",
       "      <td>0</td>\n",
       "      <td>0</td>\n",
       "      <td>0</td>\n",
       "      <td>0</td>\n",
       "      <td>0</td>\n",
       "      <td>0</td>\n",
       "      <td>1</td>\n",
       "      <td>0</td>\n",
       "    </tr>\n",
       "  </tbody>\n",
       "</table>\n",
       "<p>5 rows × 2982 columns</p>\n",
       "</div>"
      ],
      "text/plain": [
       "   the  to  ect  and  for  of    a  you  hou  in  ...  enhancements  connevey  \\\n",
       "0    0   0    1    0    0   0    2    0    0   0  ...             0         0   \n",
       "1    8  13   24    6    6   2  102    1   27  18  ...             0         0   \n",
       "2    0   0    1    0    0   0    8    0    0   4  ...             0         0   \n",
       "3    0   5   22    0    5   1   51    2   10   1  ...             0         0   \n",
       "4    7   6   17    1    5   2   57    0    9   3  ...             0         0   \n",
       "\n",
       "   jay  valued  lay  infrastructure  military  allowing  ff  dry  \n",
       "0    0       0    0               0         0         0   0    0  \n",
       "1    0       0    0               0         0         0   1    0  \n",
       "2    0       0    0               0         0         0   0    0  \n",
       "3    0       0    0               0         0         0   0    0  \n",
       "4    0       0    0               0         0         0   1    0  \n",
       "\n",
       "[5 rows x 2982 columns]"
      ]
     },
     "execution_count": 16,
     "metadata": {},
     "output_type": "execute_result"
    }
   ],
   "source": [
    "x = messages.drop(['Prediction'], axis =1)\n",
    "x.head()"
   ]
  },
  {
   "cell_type": "code",
   "execution_count": 17,
   "metadata": {},
   "outputs": [],
   "source": [
    "# Train Test Split\n",
    "\n",
    "from sklearn.model_selection import train_test_split\n",
    "X_train, X_test, y_train, y_test = train_test_split(x, y, test_size = 0.20, random_state = 0)"
   ]
  },
  {
   "cell_type": "code",
   "execution_count": 18,
   "metadata": {},
   "outputs": [
    {
     "data": {
      "text/html": [
       "<div>\n",
       "<style scoped>\n",
       "    .dataframe tbody tr th:only-of-type {\n",
       "        vertical-align: middle;\n",
       "    }\n",
       "\n",
       "    .dataframe tbody tr th {\n",
       "        vertical-align: top;\n",
       "    }\n",
       "\n",
       "    .dataframe thead th {\n",
       "        text-align: right;\n",
       "    }\n",
       "</style>\n",
       "<table border=\"1\" class=\"dataframe\">\n",
       "  <thead>\n",
       "    <tr style=\"text-align: right;\">\n",
       "      <th></th>\n",
       "      <th>the</th>\n",
       "      <th>to</th>\n",
       "      <th>ect</th>\n",
       "      <th>and</th>\n",
       "      <th>for</th>\n",
       "      <th>of</th>\n",
       "      <th>a</th>\n",
       "      <th>you</th>\n",
       "      <th>hou</th>\n",
       "      <th>in</th>\n",
       "      <th>...</th>\n",
       "      <th>enhancements</th>\n",
       "      <th>connevey</th>\n",
       "      <th>jay</th>\n",
       "      <th>valued</th>\n",
       "      <th>lay</th>\n",
       "      <th>infrastructure</th>\n",
       "      <th>military</th>\n",
       "      <th>allowing</th>\n",
       "      <th>ff</th>\n",
       "      <th>dry</th>\n",
       "    </tr>\n",
       "  </thead>\n",
       "  <tbody>\n",
       "    <tr>\n",
       "      <th>3314</th>\n",
       "      <td>0</td>\n",
       "      <td>0</td>\n",
       "      <td>2</td>\n",
       "      <td>4</td>\n",
       "      <td>1</td>\n",
       "      <td>0</td>\n",
       "      <td>26</td>\n",
       "      <td>2</td>\n",
       "      <td>0</td>\n",
       "      <td>5</td>\n",
       "      <td>...</td>\n",
       "      <td>0</td>\n",
       "      <td>0</td>\n",
       "      <td>0</td>\n",
       "      <td>0</td>\n",
       "      <td>0</td>\n",
       "      <td>0</td>\n",
       "      <td>0</td>\n",
       "      <td>0</td>\n",
       "      <td>1</td>\n",
       "      <td>0</td>\n",
       "    </tr>\n",
       "    <tr>\n",
       "      <th>4391</th>\n",
       "      <td>14</td>\n",
       "      <td>22</td>\n",
       "      <td>5</td>\n",
       "      <td>19</td>\n",
       "      <td>5</td>\n",
       "      <td>6</td>\n",
       "      <td>157</td>\n",
       "      <td>4</td>\n",
       "      <td>0</td>\n",
       "      <td>44</td>\n",
       "      <td>...</td>\n",
       "      <td>0</td>\n",
       "      <td>0</td>\n",
       "      <td>0</td>\n",
       "      <td>1</td>\n",
       "      <td>1</td>\n",
       "      <td>0</td>\n",
       "      <td>0</td>\n",
       "      <td>0</td>\n",
       "      <td>4</td>\n",
       "      <td>0</td>\n",
       "    </tr>\n",
       "    <tr>\n",
       "      <th>4020</th>\n",
       "      <td>2</td>\n",
       "      <td>0</td>\n",
       "      <td>3</td>\n",
       "      <td>1</td>\n",
       "      <td>0</td>\n",
       "      <td>0</td>\n",
       "      <td>7</td>\n",
       "      <td>0</td>\n",
       "      <td>0</td>\n",
       "      <td>1</td>\n",
       "      <td>...</td>\n",
       "      <td>0</td>\n",
       "      <td>0</td>\n",
       "      <td>0</td>\n",
       "      <td>0</td>\n",
       "      <td>0</td>\n",
       "      <td>0</td>\n",
       "      <td>0</td>\n",
       "      <td>0</td>\n",
       "      <td>2</td>\n",
       "      <td>0</td>\n",
       "    </tr>\n",
       "    <tr>\n",
       "      <th>3489</th>\n",
       "      <td>0</td>\n",
       "      <td>0</td>\n",
       "      <td>1</td>\n",
       "      <td>0</td>\n",
       "      <td>1</td>\n",
       "      <td>0</td>\n",
       "      <td>5</td>\n",
       "      <td>0</td>\n",
       "      <td>0</td>\n",
       "      <td>0</td>\n",
       "      <td>...</td>\n",
       "      <td>0</td>\n",
       "      <td>0</td>\n",
       "      <td>0</td>\n",
       "      <td>0</td>\n",
       "      <td>0</td>\n",
       "      <td>0</td>\n",
       "      <td>0</td>\n",
       "      <td>0</td>\n",
       "      <td>0</td>\n",
       "      <td>0</td>\n",
       "    </tr>\n",
       "    <tr>\n",
       "      <th>4165</th>\n",
       "      <td>1</td>\n",
       "      <td>0</td>\n",
       "      <td>1</td>\n",
       "      <td>0</td>\n",
       "      <td>0</td>\n",
       "      <td>0</td>\n",
       "      <td>1</td>\n",
       "      <td>1</td>\n",
       "      <td>0</td>\n",
       "      <td>0</td>\n",
       "      <td>...</td>\n",
       "      <td>0</td>\n",
       "      <td>0</td>\n",
       "      <td>0</td>\n",
       "      <td>0</td>\n",
       "      <td>0</td>\n",
       "      <td>0</td>\n",
       "      <td>0</td>\n",
       "      <td>0</td>\n",
       "      <td>0</td>\n",
       "      <td>0</td>\n",
       "    </tr>\n",
       "  </tbody>\n",
       "</table>\n",
       "<p>5 rows × 2982 columns</p>\n",
       "</div>"
      ],
      "text/plain": [
       "      the  to  ect  and  for  of    a  you  hou  in  ...  enhancements  \\\n",
       "3314    0   0    2    4    1   0   26    2    0   5  ...             0   \n",
       "4391   14  22    5   19    5   6  157    4    0  44  ...             0   \n",
       "4020    2   0    3    1    0   0    7    0    0   1  ...             0   \n",
       "3489    0   0    1    0    1   0    5    0    0   0  ...             0   \n",
       "4165    1   0    1    0    0   0    1    1    0   0  ...             0   \n",
       "\n",
       "      connevey  jay  valued  lay  infrastructure  military  allowing  ff  dry  \n",
       "3314         0    0       0    0               0         0         0   1    0  \n",
       "4391         0    0       1    1               0         0         0   4    0  \n",
       "4020         0    0       0    0               0         0         0   2    0  \n",
       "3489         0    0       0    0               0         0         0   0    0  \n",
       "4165         0    0       0    0               0         0         0   0    0  \n",
       "\n",
       "[5 rows x 2982 columns]"
      ]
     },
     "execution_count": 18,
     "metadata": {},
     "output_type": "execute_result"
    }
   ],
   "source": [
    "X_train.head()"
   ]
  },
  {
   "cell_type": "code",
   "execution_count": 19,
   "metadata": {},
   "outputs": [],
   "source": [
    "# Training model using Naive bayes classifier\n",
    "\n",
    "from sklearn.ensemble import RandomForestClassifier\n",
    "spam_detect_model = RandomForestClassifier().fit(X_train, y_train)"
   ]
  },
  {
   "cell_type": "code",
   "execution_count": 20,
   "metadata": {},
   "outputs": [],
   "source": [
    "y_pred=spam_detect_model.predict(X_test)"
   ]
  },
  {
   "cell_type": "code",
   "execution_count": 21,
   "metadata": {},
   "outputs": [
    {
     "data": {
      "text/plain": [
       "array([0, 0, 0, 1, 0, 1, 0, 0, 0, 1], dtype=int64)"
      ]
     },
     "execution_count": 21,
     "metadata": {},
     "output_type": "execute_result"
    }
   ],
   "source": [
    "y_pred[:10]"
   ]
  },
  {
   "cell_type": "code",
   "execution_count": 22,
   "metadata": {},
   "outputs": [
    {
     "data": {
      "text/plain": [
       "3324    0\n",
       "15      0\n",
       "4950    0\n",
       "3964    1\n",
       "2315    0\n",
       "861     1\n",
       "2350    0\n",
       "1767    0\n",
       "965     0\n",
       "2630    1\n",
       "Name: Prediction, dtype: int64"
      ]
     },
     "execution_count": 22,
     "metadata": {},
     "output_type": "execute_result"
    }
   ],
   "source": [
    "y_test[:10]"
   ]
  },
  {
   "cell_type": "code",
   "execution_count": 23,
   "metadata": {},
   "outputs": [
    {
     "name": "stdout",
     "output_type": "stream",
     "text": [
      "0.9719806763285024\n"
     ]
    }
   ],
   "source": [
    "from sklearn.metrics import accuracy_score\n",
    "print(accuracy_score(y_test, y_pred))"
   ]
  },
  {
   "cell_type": "code",
   "execution_count": 24,
   "metadata": {},
   "outputs": [
    {
     "name": "stdout",
     "output_type": "stream",
     "text": [
      "0.9719806763285024\n"
     ]
    }
   ],
   "source": [
    "print(accuracy_score(y_pred, y_test))"
   ]
  },
  {
   "cell_type": "code",
   "execution_count": 25,
   "metadata": {},
   "outputs": [],
   "source": [
    "from sklearn.naive_bayes import MultinomialNB\n",
    "spam_detect_model2 = MultinomialNB().fit(X_train, y_train)\n",
    "\n",
    "y2_pred=spam_detect_model2.predict(X_test)"
   ]
  },
  {
   "cell_type": "code",
   "execution_count": 26,
   "metadata": {},
   "outputs": [
    {
     "name": "stdout",
     "output_type": "stream",
     "text": [
      "0.9400966183574879\n"
     ]
    }
   ],
   "source": [
    "print(accuracy_score(y_test, y2_pred))"
   ]
  },
  {
   "cell_type": "code",
   "execution_count": 27,
   "metadata": {},
   "outputs": [
    {
     "name": "stdout",
     "output_type": "stream",
     "text": [
      "Requirement already satisfied: azureml in c:\\users\\dell\\anaconda3\\lib\\site-packages (0.2.7)\n",
      "Requirement already satisfied: requests in c:\\users\\dell\\anaconda3\\lib\\site-packages (from azureml) (2.23.0)\n",
      "Requirement already satisfied: python-dateutil in c:\\users\\dell\\anaconda3\\lib\\site-packages (from azureml) (2.8.1)\n",
      "Requirement already satisfied: pandas in c:\\users\\dell\\anaconda3\\lib\\site-packages (from azureml) (1.3.5)\n",
      "Requirement already satisfied: urllib3!=1.25.0,!=1.25.1,<1.26,>=1.21.1 in c:\\users\\dell\\anaconda3\\lib\\site-packages (from requests->azureml) (1.25.8)\n",
      "Requirement already satisfied: certifi>=2017.4.17 in c:\\users\\dell\\anaconda3\\lib\\site-packages (from requests->azureml) (2021.10.8)\n",
      "Requirement already satisfied: chardet<4,>=3.0.2 in c:\\users\\dell\\anaconda3\\lib\\site-packages (from requests->azureml) (3.0.4)\n",
      "Requirement already satisfied: idna<3,>=2.5 in c:\\users\\dell\\anaconda3\\lib\\site-packages (from requests->azureml) (2.9)\n",
      "Requirement already satisfied: six>=1.5 in c:\\users\\dell\\anaconda3\\lib\\site-packages (from python-dateutil->azureml) (1.15.0)\n",
      "Requirement already satisfied: pytz>=2017.3 in c:\\users\\dell\\anaconda3\\lib\\site-packages (from pandas->azureml) (2020.1)\n",
      "Requirement already satisfied: numpy>=1.17.3; platform_machine != \"aarch64\" and platform_machine != \"arm64\" and python_version < \"3.10\" in c:\\users\\dell\\anaconda3\\lib\\site-packages (from pandas->azureml) (1.19.5)\n",
      "Note: you may need to restart the kernel to use updated packages.\n"
     ]
    }
   ],
   "source": [
    "pip install azureml"
   ]
  },
  {
   "cell_type": "code",
   "execution_count": 28,
   "metadata": {},
   "outputs": [
    {
     "name": "stdout",
     "output_type": "stream",
     "text": [
      "Requirement already satisfied: azureml.core in c:\\users\\dell\\anaconda3\\lib\\site-packages (1.42.0)\n",
      "Requirement already satisfied: azure-mgmt-keyvault<10.0.0,>=0.40.0 in c:\\users\\dell\\anaconda3\\lib\\site-packages (from azureml.core) (9.3.0)\n",
      "Requirement already satisfied: azure-mgmt-storage<=20.0.0,>=16.0.0 in c:\\users\\dell\\anaconda3\\lib\\site-packages (from azureml.core) (20.0.0)\n",
      "Requirement already satisfied: azure-mgmt-resource<=21.0.0,>=15.0.0 in c:\\users\\dell\\anaconda3\\lib\\site-packages (from azureml.core) (21.0.0)\n",
      "Requirement already satisfied: azure-core<=1.22.1 in c:\\users\\dell\\anaconda3\\lib\\site-packages (from azureml.core) (1.22.1)\n",
      "Requirement already satisfied: msal-extensions<=1.0.0,>=0.3.0 in c:\\users\\dell\\anaconda3\\lib\\site-packages (from azureml.core) (1.0.0)\n",
      "Requirement already satisfied: cryptography!=1.9,!=2.0.*,!=2.1.*,!=2.2.*,<37.0.0 in c:\\users\\dell\\anaconda3\\lib\\site-packages (from azureml.core) (2.9.2)\n",
      "Requirement already satisfied: adal<=1.2.7,>=1.2.0 in c:\\users\\dell\\anaconda3\\lib\\site-packages (from azureml.core) (1.2.7)\n",
      "Requirement already satisfied: paramiko<3.0.0,>=2.0.8 in c:\\users\\dell\\anaconda3\\lib\\site-packages (from azureml.core) (2.7.1)\n",
      "Requirement already satisfied: humanfriendly<11.0,>=4.7 in c:\\users\\dell\\anaconda3\\lib\\site-packages (from azureml.core) (10.0)\n",
      "Requirement already satisfied: packaging<22.0,>=20.0 in c:\\users\\dell\\anaconda3\\lib\\site-packages (from azureml.core) (20.3)\n",
      "Requirement already satisfied: ndg-httpsclient<=0.5.1 in c:\\users\\dell\\anaconda3\\lib\\site-packages (from azureml.core) (0.5.1)\n",
      "Requirement already satisfied: pyopenssl<23.0.0 in c:\\users\\dell\\anaconda3\\lib\\site-packages (from azureml.core) (19.1.0)\n",
      "Requirement already satisfied: azure-common<2.0.0,>=1.1.12 in c:\\users\\dell\\anaconda3\\lib\\site-packages (from azureml.core) (1.1.28)\n",
      "Requirement already satisfied: urllib3<=1.26.9,>=1.23 in c:\\users\\dell\\anaconda3\\lib\\site-packages (from azureml.core) (1.25.8)\n",
      "Requirement already satisfied: pathspec<1.0.0 in c:\\users\\dell\\anaconda3\\lib\\site-packages (from azureml.core) (0.9.0)\n",
      "Requirement already satisfied: requests[socks]<3.0.0,>=2.19.1 in c:\\users\\dell\\anaconda3\\lib\\site-packages (from azureml.core) (2.23.0)\n",
      "Requirement already satisfied: jsonpickle<3.0.0 in c:\\users\\dell\\anaconda3\\lib\\site-packages (from azureml.core) (2.2.0)\n",
      "Requirement already satisfied: msal<2.0.0,>=1.15.0 in c:\\users\\dell\\anaconda3\\lib\\site-packages (from azureml.core) (1.17.0)\n",
      "Requirement already satisfied: SecretStorage<4.0.0 in c:\\users\\dell\\anaconda3\\lib\\site-packages (from azureml.core) (3.3.2)\n",
      "Requirement already satisfied: knack~=0.9.0 in c:\\users\\dell\\anaconda3\\lib\\site-packages (from azureml.core) (0.9.0)\n",
      "Requirement already satisfied: jmespath<=1.0.0 in c:\\users\\dell\\anaconda3\\lib\\site-packages (from azureml.core) (1.0.0)\n",
      "Requirement already satisfied: backports.tempfile in c:\\users\\dell\\anaconda3\\lib\\site-packages (from azureml.core) (1.0)\n",
      "Requirement already satisfied: python-dateutil<3.0.0,>=2.7.3 in c:\\users\\dell\\anaconda3\\lib\\site-packages (from azureml.core) (2.8.1)\n",
      "Requirement already satisfied: azure-graphrbac<1.0.0,>=0.40.0 in c:\\users\\dell\\anaconda3\\lib\\site-packages (from azureml.core) (0.61.1)\n",
      "Requirement already satisfied: pkginfo in c:\\users\\dell\\anaconda3\\lib\\site-packages (from azureml.core) (1.5.0.1)\n",
      "Requirement already satisfied: contextlib2<22.0.0 in c:\\users\\dell\\anaconda3\\lib\\site-packages (from azureml.core) (0.6.0.post1)\n",
      "Requirement already satisfied: PyJWT<3.0.0 in c:\\users\\dell\\anaconda3\\lib\\site-packages (from azureml.core) (1.7.1)\n",
      "Requirement already satisfied: pytz in c:\\users\\dell\\anaconda3\\lib\\site-packages (from azureml.core) (2020.1)\n",
      "Requirement already satisfied: azure-mgmt-authorization<3,>=0.40.0 in c:\\users\\dell\\anaconda3\\lib\\site-packages (from azureml.core) (2.0.0)\n",
      "Requirement already satisfied: msrest<1.0.0,>=0.5.1 in c:\\users\\dell\\anaconda3\\lib\\site-packages (from azureml.core) (0.6.21)\n",
      "Requirement already satisfied: docker<6.0.0 in c:\\users\\dell\\anaconda3\\lib\\site-packages (from azureml.core) (5.0.3)\n",
      "Requirement already satisfied: argcomplete<3 in c:\\users\\dell\\anaconda3\\lib\\site-packages (from azureml.core) (2.0.0)\n",
      "Requirement already satisfied: azure-mgmt-containerregistry<10,>=8.2.0 in c:\\users\\dell\\anaconda3\\lib\\site-packages (from azureml.core) (9.1.0)\n",
      "Requirement already satisfied: msrestazure<=0.6.4,>=0.4.33 in c:\\users\\dell\\anaconda3\\lib\\site-packages (from azureml.core) (0.6.4)\n",
      "Requirement already satisfied: azure-mgmt-core<2.0.0,>=1.2.0 in c:\\users\\dell\\anaconda3\\lib\\site-packages (from azure-mgmt-keyvault<10.0.0,>=0.40.0->azureml.core) (1.3.0)\n",
      "Requirement already satisfied: six>=1.11.0 in c:\\users\\dell\\anaconda3\\lib\\site-packages (from azure-core<=1.22.1->azureml.core) (1.15.0)\n",
      "Requirement already satisfied: portalocker<3,>=1.6; python_version >= \"3.5\" and platform_system == \"Windows\" in c:\\users\\dell\\anaconda3\\lib\\site-packages (from msal-extensions<=1.0.0,>=0.3.0->azureml.core) (2.4.0)\n",
      "Requirement already satisfied: cffi!=1.11.3,>=1.8 in c:\\users\\dell\\anaconda3\\lib\\site-packages (from cryptography!=1.9,!=2.0.*,!=2.1.*,!=2.2.*,<37.0.0->azureml.core) (1.14.0)\n",
      "Requirement already satisfied: pynacl>=1.0.1 in c:\\users\\dell\\anaconda3\\lib\\site-packages (from paramiko<3.0.0,>=2.0.8->azureml.core) (1.3.0)\n",
      "Requirement already satisfied: bcrypt>=3.1.3 in c:\\users\\dell\\anaconda3\\lib\\site-packages (from paramiko<3.0.0,>=2.0.8->azureml.core) (3.1.7)\n",
      "Requirement already satisfied: pyreadline; sys_platform == \"win32\" and python_version < \"3.8\" in c:\\users\\dell\\anaconda3\\lib\\site-packages (from humanfriendly<11.0,>=4.7->azureml.core) (2.1)\n",
      "Requirement already satisfied: pyparsing>=2.0.2 in c:\\users\\dell\\anaconda3\\lib\\site-packages (from packaging<22.0,>=20.0->azureml.core) (2.4.7)\n",
      "Requirement already satisfied: pyasn1>=0.1.1 in c:\\users\\dell\\anaconda3\\lib\\site-packages (from ndg-httpsclient<=0.5.1->azureml.core) (0.4.8)\n",
      "Requirement already satisfied: chardet<4,>=3.0.2 in c:\\users\\dell\\anaconda3\\lib\\site-packages (from requests[socks]<3.0.0,>=2.19.1->azureml.core) (3.0.4)\n",
      "Requirement already satisfied: certifi>=2017.4.17 in c:\\users\\dell\\anaconda3\\lib\\site-packages (from requests[socks]<3.0.0,>=2.19.1->azureml.core) (2021.10.8)\n",
      "Requirement already satisfied: idna<3,>=2.5 in c:\\users\\dell\\anaconda3\\lib\\site-packages (from requests[socks]<3.0.0,>=2.19.1->azureml.core) (2.9)\n",
      "Requirement already satisfied: PySocks!=1.5.7,>=1.5.6; extra == \"socks\" in c:\\users\\dell\\anaconda3\\lib\\site-packages (from requests[socks]<3.0.0,>=2.19.1->azureml.core) (1.7.1)\n",
      "Requirement already satisfied: importlib-metadata; python_version < \"3.8\" in c:\\users\\dell\\anaconda3\\lib\\site-packages (from jsonpickle<3.0.0->azureml.core) (1.5.0)\n",
      "Requirement already satisfied: jeepney>=0.6 in c:\\users\\dell\\anaconda3\\lib\\site-packages (from SecretStorage<4.0.0->azureml.core) (0.8.0)\n",
      "Requirement already satisfied: tabulate in c:\\users\\dell\\anaconda3\\lib\\site-packages (from knack~=0.9.0->azureml.core) (0.8.9)\n",
      "Requirement already satisfied: pygments in c:\\users\\dell\\anaconda3\\lib\\site-packages (from knack~=0.9.0->azureml.core) (2.6.1)\n",
      "Requirement already satisfied: pyyaml in c:\\users\\dell\\anaconda3\\lib\\site-packages (from knack~=0.9.0->azureml.core) (5.3.1)\n",
      "Requirement already satisfied: backports.weakref in c:\\users\\dell\\anaconda3\\lib\\site-packages (from backports.tempfile->azureml.core) (1.0.post1)\n",
      "Requirement already satisfied: isodate>=0.6.0 in c:\\users\\dell\\anaconda3\\lib\\site-packages (from msrest<1.0.0,>=0.5.1->azureml.core) (0.6.1)\n",
      "Requirement already satisfied: requests-oauthlib>=0.5.0 in c:\\users\\dell\\anaconda3\\lib\\site-packages (from msrest<1.0.0,>=0.5.1->azureml.core) (1.3.0)\n",
      "Requirement already satisfied: pywin32==227; sys_platform == \"win32\" in c:\\users\\dell\\anaconda3\\lib\\site-packages (from docker<6.0.0->azureml.core) (227)\n",
      "Requirement already satisfied: websocket-client>=0.32.0 in c:\\users\\dell\\anaconda3\\lib\\site-packages (from docker<6.0.0->azureml.core) (1.3.2)\n",
      "Requirement already satisfied: pycparser in c:\\users\\dell\\anaconda3\\lib\\site-packages (from cffi!=1.11.3,>=1.8->cryptography!=1.9,!=2.0.*,!=2.1.*,!=2.2.*,<37.0.0->azureml.core) (2.20)\n",
      "Requirement already satisfied: zipp>=0.5 in c:\\users\\dell\\anaconda3\\lib\\site-packages (from importlib-metadata; python_version < \"3.8\"->jsonpickle<3.0.0->azureml.core) (3.1.0)\n",
      "Requirement already satisfied: oauthlib>=3.0.0 in c:\\users\\dell\\anaconda3\\lib\\site-packages (from requests-oauthlib>=0.5.0->msrest<1.0.0,>=0.5.1->azureml.core) (3.1.0)\n",
      "Note: you may need to restart the kernel to use updated packages.\n"
     ]
    }
   ],
   "source": [
    "pip install azureml.core"
   ]
  },
  {
   "cell_type": "code",
   "execution_count": 29,
   "metadata": {},
   "outputs": [
    {
     "name": "stdout",
     "output_type": "stream",
     "text": [
      "Requirement already satisfied: azureml-core in c:\\users\\dell\\anaconda3\\lib\\site-packages (1.42.0)\n",
      "Requirement already satisfied: cryptography!=1.9,!=2.0.*,!=2.1.*,!=2.2.*,<37.0.0 in c:\\users\\dell\\anaconda3\\lib\\site-packages (from azureml-core) (2.9.2)\n",
      "Requirement already satisfied: argcomplete<3 in c:\\users\\dell\\anaconda3\\lib\\site-packages (from azureml-core) (2.0.0)\n",
      "Requirement already satisfied: paramiko<3.0.0,>=2.0.8 in c:\\users\\dell\\anaconda3\\lib\\site-packages (from azureml-core) (2.7.1)\n",
      "Requirement already satisfied: azure-graphrbac<1.0.0,>=0.40.0 in c:\\users\\dell\\anaconda3\\lib\\site-packages (from azureml-core) (0.61.1)\n",
      "Requirement already satisfied: pyopenssl<23.0.0 in c:\\users\\dell\\anaconda3\\lib\\site-packages (from azureml-core) (19.1.0)\n",
      "Requirement already satisfied: pathspec<1.0.0 in c:\\users\\dell\\anaconda3\\lib\\site-packages (from azureml-core) (0.9.0)\n",
      "Requirement already satisfied: pytz in c:\\users\\dell\\anaconda3\\lib\\site-packages (from azureml-core) (2020.1)\n",
      "Requirement already satisfied: ndg-httpsclient<=0.5.1 in c:\\users\\dell\\anaconda3\\lib\\site-packages (from azureml-core) (0.5.1)\n",
      "Requirement already satisfied: msal-extensions<=1.0.0,>=0.3.0 in c:\\users\\dell\\anaconda3\\lib\\site-packages (from azureml-core) (1.0.0)\n",
      "Requirement already satisfied: azure-mgmt-resource<=21.0.0,>=15.0.0 in c:\\users\\dell\\anaconda3\\lib\\site-packages (from azureml-core) (21.0.0)\n",
      "Requirement already satisfied: contextlib2<22.0.0 in c:\\users\\dell\\anaconda3\\lib\\site-packages (from azureml-core) (0.6.0.post1)\n",
      "Requirement already satisfied: humanfriendly<11.0,>=4.7 in c:\\users\\dell\\anaconda3\\lib\\site-packages (from azureml-core) (10.0)\n",
      "Requirement already satisfied: urllib3<=1.26.9,>=1.23 in c:\\users\\dell\\anaconda3\\lib\\site-packages (from azureml-core) (1.25.8)\n",
      "Requirement already satisfied: requests[socks]<3.0.0,>=2.19.1 in c:\\users\\dell\\anaconda3\\lib\\site-packages (from azureml-core) (2.23.0)\n",
      "Requirement already satisfied: msrestazure<=0.6.4,>=0.4.33 in c:\\users\\dell\\anaconda3\\lib\\site-packages (from azureml-core) (0.6.4)\n",
      "Requirement already satisfied: jmespath<=1.0.0 in c:\\users\\dell\\anaconda3\\lib\\site-packages (from azureml-core) (1.0.0)\n",
      "Requirement already satisfied: azure-mgmt-storage<=20.0.0,>=16.0.0 in c:\\users\\dell\\anaconda3\\lib\\site-packages (from azureml-core) (20.0.0)\n",
      "Requirement already satisfied: PyJWT<3.0.0 in c:\\users\\dell\\anaconda3\\lib\\site-packages (from azureml-core) (1.7.1)\n",
      "Requirement already satisfied: azure-common<2.0.0,>=1.1.12 in c:\\users\\dell\\anaconda3\\lib\\site-packages (from azureml-core) (1.1.28)\n",
      "Requirement already satisfied: SecretStorage<4.0.0 in c:\\users\\dell\\anaconda3\\lib\\site-packages (from azureml-core) (3.3.2)\n",
      "Requirement already satisfied: msrest<1.0.0,>=0.5.1 in c:\\users\\dell\\anaconda3\\lib\\site-packages (from azureml-core) (0.6.21)\n",
      "Requirement already satisfied: azure-core<=1.22.1 in c:\\users\\dell\\anaconda3\\lib\\site-packages (from azureml-core) (1.22.1)\n",
      "Requirement already satisfied: knack~=0.9.0 in c:\\users\\dell\\anaconda3\\lib\\site-packages (from azureml-core) (0.9.0)\n",
      "Requirement already satisfied: msal<2.0.0,>=1.15.0 in c:\\users\\dell\\anaconda3\\lib\\site-packages (from azureml-core) (1.17.0)\n",
      "Requirement already satisfied: python-dateutil<3.0.0,>=2.7.3 in c:\\users\\dell\\anaconda3\\lib\\site-packages (from azureml-core) (2.8.1)\n",
      "Requirement already satisfied: backports.tempfile in c:\\users\\dell\\anaconda3\\lib\\site-packages (from azureml-core) (1.0)\n",
      "Requirement already satisfied: adal<=1.2.7,>=1.2.0 in c:\\users\\dell\\anaconda3\\lib\\site-packages (from azureml-core) (1.2.7)\n",
      "Requirement already satisfied: packaging<22.0,>=20.0 in c:\\users\\dell\\anaconda3\\lib\\site-packages (from azureml-core) (20.3)\n",
      "Requirement already satisfied: azure-mgmt-containerregistry<10,>=8.2.0 in c:\\users\\dell\\anaconda3\\lib\\site-packages (from azureml-core) (9.1.0)\n",
      "Requirement already satisfied: azure-mgmt-authorization<3,>=0.40.0 in c:\\users\\dell\\anaconda3\\lib\\site-packages (from azureml-core) (2.0.0)\n",
      "Requirement already satisfied: docker<6.0.0 in c:\\users\\dell\\anaconda3\\lib\\site-packages (from azureml-core) (5.0.3)\n",
      "Requirement already satisfied: azure-mgmt-keyvault<10.0.0,>=0.40.0 in c:\\users\\dell\\anaconda3\\lib\\site-packages (from azureml-core) (9.3.0)\n",
      "Requirement already satisfied: pkginfo in c:\\users\\dell\\anaconda3\\lib\\site-packages (from azureml-core) (1.5.0.1)\n",
      "Requirement already satisfied: jsonpickle<3.0.0 in c:\\users\\dell\\anaconda3\\lib\\site-packages (from azureml-core) (2.2.0)\n",
      "Requirement already satisfied: cffi!=1.11.3,>=1.8 in c:\\users\\dell\\anaconda3\\lib\\site-packages (from cryptography!=1.9,!=2.0.*,!=2.1.*,!=2.2.*,<37.0.0->azureml-core) (1.14.0)\n",
      "Requirement already satisfied: six>=1.4.1 in c:\\users\\dell\\anaconda3\\lib\\site-packages (from cryptography!=1.9,!=2.0.*,!=2.1.*,!=2.2.*,<37.0.0->azureml-core) (1.15.0)\n",
      "Requirement already satisfied: importlib-metadata<5,>=0.23; python_version == \"3.7\" in c:\\users\\dell\\anaconda3\\lib\\site-packages (from argcomplete<3->azureml-core) (1.5.0)\n",
      "Requirement already satisfied: pynacl>=1.0.1 in c:\\users\\dell\\anaconda3\\lib\\site-packages (from paramiko<3.0.0,>=2.0.8->azureml-core) (1.3.0)\n",
      "Requirement already satisfied: bcrypt>=3.1.3 in c:\\users\\dell\\anaconda3\\lib\\site-packages (from paramiko<3.0.0,>=2.0.8->azureml-core) (3.1.7)\n",
      "Requirement already satisfied: pyasn1>=0.1.1 in c:\\users\\dell\\anaconda3\\lib\\site-packages (from ndg-httpsclient<=0.5.1->azureml-core) (0.4.8)\n",
      "Requirement already satisfied: portalocker<3,>=1.6; python_version >= \"3.5\" and platform_system == \"Windows\" in c:\\users\\dell\\anaconda3\\lib\\site-packages (from msal-extensions<=1.0.0,>=0.3.0->azureml-core) (2.4.0)\n",
      "Requirement already satisfied: azure-mgmt-core<2.0.0,>=1.3.0 in c:\\users\\dell\\anaconda3\\lib\\site-packages (from azure-mgmt-resource<=21.0.0,>=15.0.0->azureml-core) (1.3.0)\n",
      "Requirement already satisfied: pyreadline; sys_platform == \"win32\" and python_version < \"3.8\" in c:\\users\\dell\\anaconda3\\lib\\site-packages (from humanfriendly<11.0,>=4.7->azureml-core) (2.1)\n",
      "Requirement already satisfied: idna<3,>=2.5 in c:\\users\\dell\\anaconda3\\lib\\site-packages (from requests[socks]<3.0.0,>=2.19.1->azureml-core) (2.9)\n",
      "Requirement already satisfied: chardet<4,>=3.0.2 in c:\\users\\dell\\anaconda3\\lib\\site-packages (from requests[socks]<3.0.0,>=2.19.1->azureml-core) (3.0.4)\n",
      "Requirement already satisfied: certifi>=2017.4.17 in c:\\users\\dell\\anaconda3\\lib\\site-packages (from requests[socks]<3.0.0,>=2.19.1->azureml-core) (2021.10.8)\n",
      "Requirement already satisfied: PySocks!=1.5.7,>=1.5.6; extra == \"socks\" in c:\\users\\dell\\anaconda3\\lib\\site-packages (from requests[socks]<3.0.0,>=2.19.1->azureml-core) (1.7.1)\n",
      "Requirement already satisfied: jeepney>=0.6 in c:\\users\\dell\\anaconda3\\lib\\site-packages (from SecretStorage<4.0.0->azureml-core) (0.8.0)\n",
      "Requirement already satisfied: isodate>=0.6.0 in c:\\users\\dell\\anaconda3\\lib\\site-packages (from msrest<1.0.0,>=0.5.1->azureml-core) (0.6.1)\n",
      "Requirement already satisfied: requests-oauthlib>=0.5.0 in c:\\users\\dell\\anaconda3\\lib\\site-packages (from msrest<1.0.0,>=0.5.1->azureml-core) (1.3.0)\n",
      "Requirement already satisfied: pygments in c:\\users\\dell\\anaconda3\\lib\\site-packages (from knack~=0.9.0->azureml-core) (2.6.1)\n",
      "Requirement already satisfied: tabulate in c:\\users\\dell\\anaconda3\\lib\\site-packages (from knack~=0.9.0->azureml-core) (0.8.9)\n",
      "Requirement already satisfied: pyyaml in c:\\users\\dell\\anaconda3\\lib\\site-packages (from knack~=0.9.0->azureml-core) (5.3.1)\n",
      "Requirement already satisfied: backports.weakref in c:\\users\\dell\\anaconda3\\lib\\site-packages (from backports.tempfile->azureml-core) (1.0.post1)\n",
      "Requirement already satisfied: pyparsing>=2.0.2 in c:\\users\\dell\\anaconda3\\lib\\site-packages (from packaging<22.0,>=20.0->azureml-core) (2.4.7)\n",
      "Requirement already satisfied: websocket-client>=0.32.0 in c:\\users\\dell\\anaconda3\\lib\\site-packages (from docker<6.0.0->azureml-core) (1.3.2)\n",
      "Requirement already satisfied: pywin32==227; sys_platform == \"win32\" in c:\\users\\dell\\anaconda3\\lib\\site-packages (from docker<6.0.0->azureml-core) (227)\n",
      "Requirement already satisfied: pycparser in c:\\users\\dell\\anaconda3\\lib\\site-packages (from cffi!=1.11.3,>=1.8->cryptography!=1.9,!=2.0.*,!=2.1.*,!=2.2.*,<37.0.0->azureml-core) (2.20)\n",
      "Requirement already satisfied: zipp>=0.5 in c:\\users\\dell\\anaconda3\\lib\\site-packages (from importlib-metadata<5,>=0.23; python_version == \"3.7\"->argcomplete<3->azureml-core) (3.1.0)\n",
      "Requirement already satisfied: oauthlib>=3.0.0 in c:\\users\\dell\\anaconda3\\lib\\site-packages (from requests-oauthlib>=0.5.0->msrest<1.0.0,>=0.5.1->azureml-core) (3.1.0)\n",
      "Note: you may need to restart the kernel to use updated packages.\n"
     ]
    }
   ],
   "source": [
    "pip install azureml-core"
   ]
  },
  {
   "cell_type": "code",
   "execution_count": 1,
   "metadata": {},
   "outputs": [
    {
     "ename": "UserErrorException",
     "evalue": "UserErrorException:\n\tMessage: You are currently logged-in to 84c31ca0-ac3b-4eae-ad11-519d80233e6f tenant. You don't have access to <subscription_id> subscription, please check if it is in this tenant. All the subscriptions that you have access to in this tenant are = \n [SubscriptionInfo(subscription_name='Visual Studio Enterprise Subscription', subscription_id='f90b7173-89d4-4326-9abd-8abf1600e7bf')]. \n Please refer to aka.ms/aml-notebook-auth for different authentication mechanisms in azureml-sdk.\n\tInnerException None\n\tErrorResponse \n{\n    \"error\": {\n        \"code\": \"UserError\",\n        \"message\": \"You are currently logged-in to 84c31ca0-ac3b-4eae-ad11-519d80233e6f tenant. You don't have access to <subscription_id> subscription, please check if it is in this tenant. All the subscriptions that you have access to in this tenant are = \\n [SubscriptionInfo(subscription_name='Visual Studio Enterprise Subscription', subscription_id='f90b7173-89d4-4326-9abd-8abf1600e7bf')]. \\n Please refer to aka.ms/aml-notebook-auth for different authentication mechanisms in azureml-sdk.\"\n    }\n}",
     "output_type": "error",
     "traceback": [
      "\u001b[1;31m---------------------------------------------------------------------------\u001b[0m",
      "\u001b[1;31mUserErrorException\u001b[0m                        Traceback (most recent call last)",
      "\u001b[1;32m<ipython-input-1-ff718b6d2239>\u001b[0m in \u001b[0;36m<module>\u001b[1;34m\u001b[0m\n\u001b[0;32m      3\u001b[0m ws = Workspace(subscription_id=\"<subscription_id>\",\n\u001b[0;32m      4\u001b[0m                \u001b[0mresource_group\u001b[0m\u001b[1;33m=\u001b[0m\u001b[1;34m\"<resource_group>\"\u001b[0m\u001b[1;33m,\u001b[0m\u001b[1;33m\u001b[0m\u001b[1;33m\u001b[0m\u001b[0m\n\u001b[1;32m----> 5\u001b[1;33m                workspace_name=\"<workspace_name>\")\n\u001b[0m",
      "\u001b[1;32m~\\anaconda3\\lib\\site-packages\\azureml\\core\\workspace.py\u001b[0m in \u001b[0;36m__init__\u001b[1;34m(self, subscription_id, resource_group, workspace_name, auth, _location, _disable_service_check, _workspace_id, sku, tags, _cloud)\u001b[0m\n\u001b[0;32m    204\u001b[0m         \u001b[1;32mif\u001b[0m \u001b[1;32mnot\u001b[0m \u001b[0m_disable_service_check\u001b[0m\u001b[1;33m:\u001b[0m\u001b[1;33m\u001b[0m\u001b[1;33m\u001b[0m\u001b[0m\n\u001b[0;32m    205\u001b[0m             auto_rest_workspace = _commands.get_workspace(\n\u001b[1;32m--> 206\u001b[1;33m                 auth, subscription_id, resource_group, workspace_name, _location, _cloud, _workspace_id)\n\u001b[0m\u001b[0;32m    207\u001b[0m             \u001b[0mself\u001b[0m\u001b[1;33m.\u001b[0m\u001b[0m_workspace_autorest_object\u001b[0m \u001b[1;33m=\u001b[0m \u001b[0mauto_rest_workspace\u001b[0m\u001b[1;33m\u001b[0m\u001b[1;33m\u001b[0m\u001b[0m\n\u001b[0;32m    208\u001b[0m \u001b[1;33m\u001b[0m\u001b[0m\n",
      "\u001b[1;32m~\\anaconda3\\lib\\site-packages\\azureml\\_project\\_commands.py\u001b[0m in \u001b[0;36mget_workspace\u001b[1;34m(auth, subscription_id, resource_group_name, workspace_name, location, cloud, workspace_id)\u001b[0m\n\u001b[0;32m    453\u001b[0m                 workspaces = auth._get_service_client(\n\u001b[0;32m    454\u001b[0m                     \u001b[0mAzureMachineLearningWorkspaces\u001b[0m\u001b[1;33m,\u001b[0m\u001b[1;33m\u001b[0m\u001b[1;33m\u001b[0m\u001b[0m\n\u001b[1;32m--> 455\u001b[1;33m                     subscription_id).workspaces\n\u001b[0m\u001b[0;32m    456\u001b[0m                 return WorkspacesOperations.get(\n\u001b[0;32m    457\u001b[0m                     \u001b[0mworkspaces\u001b[0m\u001b[1;33m,\u001b[0m\u001b[1;33m\u001b[0m\u001b[1;33m\u001b[0m\u001b[0m\n",
      "\u001b[1;32m~\\anaconda3\\lib\\site-packages\\azureml\\core\\authentication.py\u001b[0m in \u001b[0;36m_get_service_client\u001b[1;34m(self, client_class, subscription_id, subscription_bound, base_url, is_check_subscription)\u001b[0m\n\u001b[0;32m    228\u001b[0m         \u001b[1;32mif\u001b[0m \u001b[0msubscription_id\u001b[0m \u001b[1;32mand\u001b[0m \u001b[0mis_check_subscription\u001b[0m\u001b[1;33m:\u001b[0m\u001b[1;33m\u001b[0m\u001b[1;33m\u001b[0m\u001b[0m\n\u001b[0;32m    229\u001b[0m             \u001b[0mall_subscription_list\u001b[0m\u001b[1;33m,\u001b[0m \u001b[0mtenant_id\u001b[0m \u001b[1;33m=\u001b[0m \u001b[0mself\u001b[0m\u001b[1;33m.\u001b[0m\u001b[0m_get_all_subscription_ids\u001b[0m\u001b[1;33m(\u001b[0m\u001b[1;33m)\u001b[0m\u001b[1;33m\u001b[0m\u001b[1;33m\u001b[0m\u001b[0m\n\u001b[1;32m--> 230\u001b[1;33m             \u001b[0mself\u001b[0m\u001b[1;33m.\u001b[0m\u001b[0m_check_if_subscription_exists\u001b[0m\u001b[1;33m(\u001b[0m\u001b[0msubscription_id\u001b[0m\u001b[1;33m,\u001b[0m \u001b[0mall_subscription_list\u001b[0m\u001b[1;33m,\u001b[0m \u001b[0mtenant_id\u001b[0m\u001b[1;33m)\u001b[0m\u001b[1;33m\u001b[0m\u001b[1;33m\u001b[0m\u001b[0m\n\u001b[0m\u001b[0;32m    231\u001b[0m \u001b[1;33m\u001b[0m\u001b[0m\n\u001b[0;32m    232\u001b[0m         \u001b[1;32mif\u001b[0m \u001b[1;32mnot\u001b[0m \u001b[0mbase_url\u001b[0m\u001b[1;33m:\u001b[0m\u001b[1;33m\u001b[0m\u001b[1;33m\u001b[0m\u001b[0m\n",
      "\u001b[1;32m~\\anaconda3\\lib\\site-packages\\azureml\\core\\authentication.py\u001b[0m in \u001b[0;36m_check_if_subscription_exists\u001b[1;34m(self, subscription_id, subscription_id_list, tenant_id)\u001b[0m\n\u001b[0;32m    688\u001b[0m     \u001b[1;32mdef\u001b[0m \u001b[0m_check_if_subscription_exists\u001b[0m\u001b[1;33m(\u001b[0m\u001b[0mself\u001b[0m\u001b[1;33m,\u001b[0m \u001b[0msubscription_id\u001b[0m\u001b[1;33m,\u001b[0m \u001b[0msubscription_id_list\u001b[0m\u001b[1;33m,\u001b[0m \u001b[0mtenant_id\u001b[0m\u001b[1;33m)\u001b[0m\u001b[1;33m:\u001b[0m\u001b[1;33m\u001b[0m\u001b[1;33m\u001b[0m\u001b[0m\n\u001b[0;32m    689\u001b[0m         super(InteractiveLoginAuthentication, self)._check_if_subscription_exists(subscription_id,\n\u001b[1;32m--> 690\u001b[1;33m                                                                                   subscription_id_list, tenant_id)\n\u001b[0m\u001b[0;32m    691\u001b[0m \u001b[1;33m\u001b[0m\u001b[0m\n\u001b[0;32m    692\u001b[0m     \u001b[1;32mdef\u001b[0m \u001b[0m_get_ambient\u001b[0m\u001b[1;33m(\u001b[0m\u001b[0mself\u001b[0m\u001b[1;33m,\u001b[0m \u001b[0mcloud\u001b[0m\u001b[1;33m)\u001b[0m\u001b[1;33m:\u001b[0m\u001b[1;33m\u001b[0m\u001b[1;33m\u001b[0m\u001b[0m\n",
      "\u001b[1;32m~\\anaconda3\\lib\\site-packages\\azureml\\core\\authentication.py\u001b[0m in \u001b[0;36m_check_if_subscription_exists\u001b[1;34m(self, subscription_id, subscription_id_list, tenant_id)\u001b[0m\n\u001b[0;32m    342\u001b[0m                                      \"authentication mechanisms in azureml-sdk.\".format(tenant_id,\n\u001b[0;32m    343\u001b[0m                                                                                         \u001b[0msubscription_id\u001b[0m\u001b[1;33m,\u001b[0m\u001b[1;33m\u001b[0m\u001b[1;33m\u001b[0m\u001b[0m\n\u001b[1;32m--> 344\u001b[1;33m                                                                                         subscription_id_list))\n\u001b[0m\u001b[0;32m    345\u001b[0m \u001b[1;33m\u001b[0m\u001b[0m\n\u001b[0;32m    346\u001b[0m \u001b[1;32mdef\u001b[0m \u001b[0m_login_on_failure_decorator\u001b[0m\u001b[1;33m(\u001b[0m\u001b[0mlock_to_use\u001b[0m\u001b[1;33m)\u001b[0m\u001b[1;33m:\u001b[0m\u001b[1;33m\u001b[0m\u001b[1;33m\u001b[0m\u001b[0m\n",
      "\u001b[1;31mUserErrorException\u001b[0m: UserErrorException:\n\tMessage: You are currently logged-in to 84c31ca0-ac3b-4eae-ad11-519d80233e6f tenant. You don't have access to <subscription_id> subscription, please check if it is in this tenant. All the subscriptions that you have access to in this tenant are = \n [SubscriptionInfo(subscription_name='Visual Studio Enterprise Subscription', subscription_id='f90b7173-89d4-4326-9abd-8abf1600e7bf')]. \n Please refer to aka.ms/aml-notebook-auth for different authentication mechanisms in azureml-sdk.\n\tInnerException None\n\tErrorResponse \n{\n    \"error\": {\n        \"code\": \"UserError\",\n        \"message\": \"You are currently logged-in to 84c31ca0-ac3b-4eae-ad11-519d80233e6f tenant. You don't have access to <subscription_id> subscription, please check if it is in this tenant. All the subscriptions that you have access to in this tenant are = \\n [SubscriptionInfo(subscription_name='Visual Studio Enterprise Subscription', subscription_id='f90b7173-89d4-4326-9abd-8abf1600e7bf')]. \\n Please refer to aka.ms/aml-notebook-auth for different authentication mechanisms in azureml-sdk.\"\n    }\n}"
     ]
    }
   ],
   "source": [
    "import azureml\n",
    "from azureml.core import Workspace\n",
    "ws = Workspace(subscription_id=\"<subscription_id>\",\n",
    "               resource_group=\"<resource_group>\",\n",
    "               workspace_name=\"<workspace_name>\")"
   ]
  },
  {
   "cell_type": "code",
   "execution_count": null,
   "metadata": {},
   "outputs": [],
   "source": [
    "from azureml.core import Workspace\n",
    "ws = Workspace(subscription_id=\"<subscription_id>\",\n",
    "               resource_group=\"<resource_group>\",\n",
    "               workspace_name=\"<workspace_name>\")"
   ]
  },
  {
   "cell_type": "code",
   "execution_count": null,
   "metadata": {},
   "outputs": [],
   "source": []
  }
 ],
 "metadata": {
  "kernelspec": {
   "display_name": "Python 3",
   "language": "python",
   "name": "python3"
  },
  "language_info": {
   "codemirror_mode": {
    "name": "ipython",
    "version": 3
   },
   "file_extension": ".py",
   "mimetype": "text/x-python",
   "name": "python",
   "nbconvert_exporter": "python",
   "pygments_lexer": "ipython3",
   "version": "3.7.7"
  }
 },
 "nbformat": 4,
 "nbformat_minor": 4
}
